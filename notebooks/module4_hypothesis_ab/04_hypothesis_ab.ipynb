{
  "cells": [
    {
      "cell_type": "markdown",
      "metadata": {},
      "source": [
        "# Module 4 \u2014 Hypothesis Testing & A/B Testing\n"
      ]
    },
    {
      "cell_type": "markdown",
      "metadata": {},
      "source": [
        "## t-tests, chi-square, ANOVA\\nRun core tests using scipy.stats"
      ]
    },
    {
      "cell_type": "code",
      "metadata": {},
      "source": [
        "import pandas as pd\\nfrom scipy import stats\\ndf = pd.read_csv('../../datasets/ab_test.csv')\\nA = df.query(\"variant=='A'\")['converted']\\nB = df.query(\"variant=='B'\")['converted']\\nprint('Two-proportion z-test (approx)')\\n# quick approximation\\npa, pb = A.mean(), B.mean()\\nimport numpy as np\\nphat = (A.sum()+B.sum())/(len(A)+len(B))\\nse = (phat*(1-phat)*(1/len(A)+1/len(B)))**0.5\\nz = (pb-pa)/se\\nprint('z ~', z)"
      ],
      "outputs": [],
      "execution_count": null
    }
  ],
  "metadata": {
    "kernelspec": {
      "display_name": "Python 3",
      "language": "python",
      "name": "python3"
    },
    "language_info": {
      "name": "python"
    }
  },
  "nbformat": 4,
  "nbformat_minor": 5
}