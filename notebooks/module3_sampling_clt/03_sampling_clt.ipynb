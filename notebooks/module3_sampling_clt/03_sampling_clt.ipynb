{
  "cells": [
    {
      "cell_type": "markdown",
      "metadata": {},
      "source": [
        "# Module 3 \u2014 Sampling & CLT\n"
      ]
    },
    {
      "cell_type": "markdown",
      "metadata": {},
      "source": [
        "## CLT via simulation\\nDraw repeated samples and plot the sampling distribution of the mean."
      ]
    },
    {
      "cell_type": "code",
      "metadata": {},
      "source": [
        "import numpy as np, matplotlib.pyplot as plt\\nimport pandas as pd\\ndf = pd.read_csv('../../datasets/retail_sales.csv')\\nmeans = []\\nfor _ in range(1000):\\n    means.append(df['units'].sample(frac=0.4, replace=True).mean())\\nplt.hist(means); plt.title('Sampling Dist of Mean'); plt.show()"
      ],
      "outputs": [],
      "execution_count": null
    }
  ],
  "metadata": {
    "kernelspec": {
      "display_name": "Python 3",
      "language": "python",
      "name": "python3"
    },
    "language_info": {
      "name": "python"
    }
  },
  "nbformat": 4,
  "nbformat_minor": 5
}