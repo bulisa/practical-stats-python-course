{
  "cells": [
    {
      "cell_type": "markdown",
      "metadata": {},
      "source": [
        "# Module 5 \u2014 Correlation & Regression\n"
      ]
    },
    {
      "cell_type": "markdown",
      "metadata": {},
      "source": [
        "## OLS regression with statsmodels; diagnostics"
      ]
    },
    {
      "cell_type": "code",
      "metadata": {},
      "source": [
        "import pandas as pd\\nimport statsmodels.api as sm\\ndf = pd.read_csv('../../datasets/retail_sales.csv')\\nX = sm.add_constant(df[['price','promo']])\\ny = df['units']\\nmodel = sm.OLS(y, X).fit()\\nprint(model.summary())"
      ],
      "outputs": [],
      "execution_count": null
    }
  ],
  "metadata": {
    "kernelspec": {
      "display_name": "Python 3",
      "language": "python",
      "name": "python3"
    },
    "language_info": {
      "name": "python"
    }
  },
  "nbformat": 4,
  "nbformat_minor": 5
}